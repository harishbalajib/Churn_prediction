{
 "cells": [
  {
   "cell_type": "markdown",
   "metadata": {},
   "source": [
    "# <h1>Importing Required Libraries</h1>\n",
    "\n",
    "- **pandas**: For data manipulation and analysis.\n",
    "- **numpy**: For numerical operations and handling arrays.\n",
    "- **matplotlib.pyplot**: For creating static, interactive, and publication-quality visualizations.\n",
    "- **seaborn**: For enhanced data visualization, built on top of matplotlib.\n",
    "- `%matplotlib inline`: Ensures that all plots are displayed inline within the Jupyter Notebook.\n"
   ]
  },
  {
   "cell_type": "code",
   "execution_count": 1,
   "metadata": {},
   "outputs": [],
   "source": [
    "import pandas as pd\n",
    "import numpy as np\n",
    "import matplotlib.pyplot as plt\n",
    "import seaborn as sns\n",
    "import warnings\n",
    "warnings.filterwarnings('ignore') \n",
    "%matplotlib inline"
   ]
  },
  {
   "cell_type": "code",
   "execution_count": 2,
   "metadata": {},
   "outputs": [
    {
     "data": {
      "text/html": [
       "<div>\n",
       "<style scoped>\n",
       "    .dataframe tbody tr th:only-of-type {\n",
       "        vertical-align: middle;\n",
       "    }\n",
       "\n",
       "    .dataframe tbody tr th {\n",
       "        vertical-align: top;\n",
       "    }\n",
       "\n",
       "    .dataframe thead th {\n",
       "        text-align: right;\n",
       "    }\n",
       "</style>\n",
       "<table border=\"1\" class=\"dataframe\">\n",
       "  <thead>\n",
       "    <tr style=\"text-align: right;\">\n",
       "      <th></th>\n",
       "      <th>RowNumber</th>\n",
       "      <th>CustomerId</th>\n",
       "      <th>Surname</th>\n",
       "      <th>CreditScore</th>\n",
       "      <th>Geography</th>\n",
       "      <th>Gender</th>\n",
       "      <th>Age</th>\n",
       "      <th>Tenure</th>\n",
       "      <th>Balance</th>\n",
       "      <th>NumOfProducts</th>\n",
       "      <th>HasCrCard</th>\n",
       "      <th>IsActiveMember</th>\n",
       "      <th>EstimatedSalary</th>\n",
       "      <th>Exited</th>\n",
       "    </tr>\n",
       "  </thead>\n",
       "  <tbody>\n",
       "    <tr>\n",
       "      <th>0</th>\n",
       "      <td>1</td>\n",
       "      <td>15634602</td>\n",
       "      <td>Hargrave</td>\n",
       "      <td>619</td>\n",
       "      <td>France</td>\n",
       "      <td>Female</td>\n",
       "      <td>42</td>\n",
       "      <td>2</td>\n",
       "      <td>0.00</td>\n",
       "      <td>1</td>\n",
       "      <td>1</td>\n",
       "      <td>1</td>\n",
       "      <td>101348.88</td>\n",
       "      <td>1</td>\n",
       "    </tr>\n",
       "    <tr>\n",
       "      <th>1</th>\n",
       "      <td>2</td>\n",
       "      <td>15647311</td>\n",
       "      <td>Hill</td>\n",
       "      <td>608</td>\n",
       "      <td>Spain</td>\n",
       "      <td>Female</td>\n",
       "      <td>41</td>\n",
       "      <td>1</td>\n",
       "      <td>83807.86</td>\n",
       "      <td>1</td>\n",
       "      <td>0</td>\n",
       "      <td>1</td>\n",
       "      <td>112542.58</td>\n",
       "      <td>0</td>\n",
       "    </tr>\n",
       "    <tr>\n",
       "      <th>2</th>\n",
       "      <td>3</td>\n",
       "      <td>15619304</td>\n",
       "      <td>Onio</td>\n",
       "      <td>502</td>\n",
       "      <td>France</td>\n",
       "      <td>Female</td>\n",
       "      <td>42</td>\n",
       "      <td>8</td>\n",
       "      <td>159660.80</td>\n",
       "      <td>3</td>\n",
       "      <td>1</td>\n",
       "      <td>0</td>\n",
       "      <td>113931.57</td>\n",
       "      <td>1</td>\n",
       "    </tr>\n",
       "    <tr>\n",
       "      <th>3</th>\n",
       "      <td>4</td>\n",
       "      <td>15701354</td>\n",
       "      <td>Boni</td>\n",
       "      <td>699</td>\n",
       "      <td>France</td>\n",
       "      <td>Female</td>\n",
       "      <td>39</td>\n",
       "      <td>1</td>\n",
       "      <td>0.00</td>\n",
       "      <td>2</td>\n",
       "      <td>0</td>\n",
       "      <td>0</td>\n",
       "      <td>93826.63</td>\n",
       "      <td>0</td>\n",
       "    </tr>\n",
       "    <tr>\n",
       "      <th>4</th>\n",
       "      <td>5</td>\n",
       "      <td>15737888</td>\n",
       "      <td>Mitchell</td>\n",
       "      <td>850</td>\n",
       "      <td>Spain</td>\n",
       "      <td>Female</td>\n",
       "      <td>43</td>\n",
       "      <td>2</td>\n",
       "      <td>125510.82</td>\n",
       "      <td>1</td>\n",
       "      <td>1</td>\n",
       "      <td>1</td>\n",
       "      <td>79084.10</td>\n",
       "      <td>0</td>\n",
       "    </tr>\n",
       "  </tbody>\n",
       "</table>\n",
       "</div>"
      ],
      "text/plain": [
       "   RowNumber  CustomerId   Surname  CreditScore Geography  Gender  Age  \\\n",
       "0          1    15634602  Hargrave          619    France  Female   42   \n",
       "1          2    15647311      Hill          608     Spain  Female   41   \n",
       "2          3    15619304      Onio          502    France  Female   42   \n",
       "3          4    15701354      Boni          699    France  Female   39   \n",
       "4          5    15737888  Mitchell          850     Spain  Female   43   \n",
       "\n",
       "   Tenure    Balance  NumOfProducts  HasCrCard  IsActiveMember  \\\n",
       "0       2       0.00              1          1               1   \n",
       "1       1   83807.86              1          0               1   \n",
       "2       8  159660.80              3          1               0   \n",
       "3       1       0.00              2          0               0   \n",
       "4       2  125510.82              1          1               1   \n",
       "\n",
       "   EstimatedSalary  Exited  \n",
       "0        101348.88       1  \n",
       "1        112542.58       0  \n",
       "2        113931.57       1  \n",
       "3         93826.63       0  \n",
       "4         79084.10       0  "
      ]
     },
     "execution_count": 2,
     "metadata": {},
     "output_type": "execute_result"
    }
   ],
   "source": [
    "df=pd.read_csv(\"churn.csv\")\n",
    "df.head()"
   ]
  },
  {
   "cell_type": "code",
   "execution_count": 3,
   "metadata": {},
   "outputs": [
    {
     "data": {
      "text/plain": [
       "(10000, 14)"
      ]
     },
     "execution_count": 3,
     "metadata": {},
     "output_type": "execute_result"
    }
   ],
   "source": [
    "df.shape"
   ]
  },
  {
   "cell_type": "markdown",
   "metadata": {},
   "source": [
    "# <h1>Calculating Class Imbalance Ratio</h1>\n",
    "- To understand the distribution of the target variable (`Exited`) and calculate the imbalance ratio for guiding model adjustments.\n"
   ]
  },
  {
   "cell_type": "code",
   "execution_count": 4,
   "metadata": {},
   "outputs": [
    {
     "name": "stdout",
     "output_type": "stream",
     "text": [
      "3.9091801669121256\n"
     ]
    }
   ],
   "source": [
    "exited=df[\"Exited\"].value_counts()\n",
    "scale_pos_ratio=exited[0]/exited[1]\n",
    "print(scale_pos_ratio)"
   ]
  },
  {
   "cell_type": "markdown",
   "metadata": {},
   "source": [
    "# <h1>Summary Statistics</h1>"
   ]
  },
  {
   "cell_type": "code",
   "execution_count": 5,
   "metadata": {},
   "outputs": [
    {
     "data": {
      "text/html": [
       "<div>\n",
       "<style scoped>\n",
       "    .dataframe tbody tr th:only-of-type {\n",
       "        vertical-align: middle;\n",
       "    }\n",
       "\n",
       "    .dataframe tbody tr th {\n",
       "        vertical-align: top;\n",
       "    }\n",
       "\n",
       "    .dataframe thead th {\n",
       "        text-align: right;\n",
       "    }\n",
       "</style>\n",
       "<table border=\"1\" class=\"dataframe\">\n",
       "  <thead>\n",
       "    <tr style=\"text-align: right;\">\n",
       "      <th></th>\n",
       "      <th>RowNumber</th>\n",
       "      <th>CustomerId</th>\n",
       "      <th>CreditScore</th>\n",
       "      <th>Age</th>\n",
       "      <th>Tenure</th>\n",
       "      <th>Balance</th>\n",
       "      <th>NumOfProducts</th>\n",
       "      <th>HasCrCard</th>\n",
       "      <th>IsActiveMember</th>\n",
       "      <th>EstimatedSalary</th>\n",
       "      <th>Exited</th>\n",
       "    </tr>\n",
       "  </thead>\n",
       "  <tbody>\n",
       "    <tr>\n",
       "      <th>count</th>\n",
       "      <td>10000.00000</td>\n",
       "      <td>1.000000e+04</td>\n",
       "      <td>10000.000000</td>\n",
       "      <td>10000.000000</td>\n",
       "      <td>10000.000000</td>\n",
       "      <td>10000.000000</td>\n",
       "      <td>10000.000000</td>\n",
       "      <td>10000.00000</td>\n",
       "      <td>10000.000000</td>\n",
       "      <td>10000.000000</td>\n",
       "      <td>10000.000000</td>\n",
       "    </tr>\n",
       "    <tr>\n",
       "      <th>mean</th>\n",
       "      <td>5000.50000</td>\n",
       "      <td>1.569094e+07</td>\n",
       "      <td>650.528800</td>\n",
       "      <td>38.921800</td>\n",
       "      <td>5.012800</td>\n",
       "      <td>76485.889288</td>\n",
       "      <td>1.530200</td>\n",
       "      <td>0.70550</td>\n",
       "      <td>0.515100</td>\n",
       "      <td>100090.239881</td>\n",
       "      <td>0.203700</td>\n",
       "    </tr>\n",
       "    <tr>\n",
       "      <th>std</th>\n",
       "      <td>2886.89568</td>\n",
       "      <td>7.193619e+04</td>\n",
       "      <td>96.653299</td>\n",
       "      <td>10.487806</td>\n",
       "      <td>2.892174</td>\n",
       "      <td>62397.405202</td>\n",
       "      <td>0.581654</td>\n",
       "      <td>0.45584</td>\n",
       "      <td>0.499797</td>\n",
       "      <td>57510.492818</td>\n",
       "      <td>0.402769</td>\n",
       "    </tr>\n",
       "    <tr>\n",
       "      <th>min</th>\n",
       "      <td>1.00000</td>\n",
       "      <td>1.556570e+07</td>\n",
       "      <td>350.000000</td>\n",
       "      <td>18.000000</td>\n",
       "      <td>0.000000</td>\n",
       "      <td>0.000000</td>\n",
       "      <td>1.000000</td>\n",
       "      <td>0.00000</td>\n",
       "      <td>0.000000</td>\n",
       "      <td>11.580000</td>\n",
       "      <td>0.000000</td>\n",
       "    </tr>\n",
       "    <tr>\n",
       "      <th>25%</th>\n",
       "      <td>2500.75000</td>\n",
       "      <td>1.562853e+07</td>\n",
       "      <td>584.000000</td>\n",
       "      <td>32.000000</td>\n",
       "      <td>3.000000</td>\n",
       "      <td>0.000000</td>\n",
       "      <td>1.000000</td>\n",
       "      <td>0.00000</td>\n",
       "      <td>0.000000</td>\n",
       "      <td>51002.110000</td>\n",
       "      <td>0.000000</td>\n",
       "    </tr>\n",
       "    <tr>\n",
       "      <th>50%</th>\n",
       "      <td>5000.50000</td>\n",
       "      <td>1.569074e+07</td>\n",
       "      <td>652.000000</td>\n",
       "      <td>37.000000</td>\n",
       "      <td>5.000000</td>\n",
       "      <td>97198.540000</td>\n",
       "      <td>1.000000</td>\n",
       "      <td>1.00000</td>\n",
       "      <td>1.000000</td>\n",
       "      <td>100193.915000</td>\n",
       "      <td>0.000000</td>\n",
       "    </tr>\n",
       "    <tr>\n",
       "      <th>75%</th>\n",
       "      <td>7500.25000</td>\n",
       "      <td>1.575323e+07</td>\n",
       "      <td>718.000000</td>\n",
       "      <td>44.000000</td>\n",
       "      <td>7.000000</td>\n",
       "      <td>127644.240000</td>\n",
       "      <td>2.000000</td>\n",
       "      <td>1.00000</td>\n",
       "      <td>1.000000</td>\n",
       "      <td>149388.247500</td>\n",
       "      <td>0.000000</td>\n",
       "    </tr>\n",
       "    <tr>\n",
       "      <th>max</th>\n",
       "      <td>10000.00000</td>\n",
       "      <td>1.581569e+07</td>\n",
       "      <td>850.000000</td>\n",
       "      <td>92.000000</td>\n",
       "      <td>10.000000</td>\n",
       "      <td>250898.090000</td>\n",
       "      <td>4.000000</td>\n",
       "      <td>1.00000</td>\n",
       "      <td>1.000000</td>\n",
       "      <td>199992.480000</td>\n",
       "      <td>1.000000</td>\n",
       "    </tr>\n",
       "  </tbody>\n",
       "</table>\n",
       "</div>"
      ],
      "text/plain": [
       "         RowNumber    CustomerId   CreditScore           Age        Tenure  \\\n",
       "count  10000.00000  1.000000e+04  10000.000000  10000.000000  10000.000000   \n",
       "mean    5000.50000  1.569094e+07    650.528800     38.921800      5.012800   \n",
       "std     2886.89568  7.193619e+04     96.653299     10.487806      2.892174   \n",
       "min        1.00000  1.556570e+07    350.000000     18.000000      0.000000   \n",
       "25%     2500.75000  1.562853e+07    584.000000     32.000000      3.000000   \n",
       "50%     5000.50000  1.569074e+07    652.000000     37.000000      5.000000   \n",
       "75%     7500.25000  1.575323e+07    718.000000     44.000000      7.000000   \n",
       "max    10000.00000  1.581569e+07    850.000000     92.000000     10.000000   \n",
       "\n",
       "             Balance  NumOfProducts    HasCrCard  IsActiveMember  \\\n",
       "count   10000.000000   10000.000000  10000.00000    10000.000000   \n",
       "mean    76485.889288       1.530200      0.70550        0.515100   \n",
       "std     62397.405202       0.581654      0.45584        0.499797   \n",
       "min         0.000000       1.000000      0.00000        0.000000   \n",
       "25%         0.000000       1.000000      0.00000        0.000000   \n",
       "50%     97198.540000       1.000000      1.00000        1.000000   \n",
       "75%    127644.240000       2.000000      1.00000        1.000000   \n",
       "max    250898.090000       4.000000      1.00000        1.000000   \n",
       "\n",
       "       EstimatedSalary        Exited  \n",
       "count     10000.000000  10000.000000  \n",
       "mean     100090.239881      0.203700  \n",
       "std       57510.492818      0.402769  \n",
       "min          11.580000      0.000000  \n",
       "25%       51002.110000      0.000000  \n",
       "50%      100193.915000      0.000000  \n",
       "75%      149388.247500      0.000000  \n",
       "max      199992.480000      1.000000  "
      ]
     },
     "execution_count": 5,
     "metadata": {},
     "output_type": "execute_result"
    }
   ],
   "source": [
    "df.describe()"
   ]
  },
  {
   "cell_type": "code",
   "execution_count": 6,
   "metadata": {},
   "outputs": [
    {
     "name": "stdout",
     "output_type": "stream",
     "text": [
      "<class 'pandas.core.frame.DataFrame'>\n",
      "RangeIndex: 10000 entries, 0 to 9999\n",
      "Data columns (total 14 columns):\n",
      " #   Column           Non-Null Count  Dtype  \n",
      "---  ------           --------------  -----  \n",
      " 0   RowNumber        10000 non-null  int64  \n",
      " 1   CustomerId       10000 non-null  int64  \n",
      " 2   Surname          10000 non-null  object \n",
      " 3   CreditScore      10000 non-null  int64  \n",
      " 4   Geography        10000 non-null  object \n",
      " 5   Gender           10000 non-null  object \n",
      " 6   Age              10000 non-null  int64  \n",
      " 7   Tenure           10000 non-null  int64  \n",
      " 8   Balance          10000 non-null  float64\n",
      " 9   NumOfProducts    10000 non-null  int64  \n",
      " 10  HasCrCard        10000 non-null  int64  \n",
      " 11  IsActiveMember   10000 non-null  int64  \n",
      " 12  EstimatedSalary  10000 non-null  float64\n",
      " 13  Exited           10000 non-null  int64  \n",
      "dtypes: float64(2), int64(9), object(3)\n",
      "memory usage: 1.1+ MB\n"
     ]
    }
   ],
   "source": [
    "df.info()"
   ]
  },
  {
   "cell_type": "code",
   "execution_count": 7,
   "metadata": {},
   "outputs": [],
   "source": [
    "df.drop(['RowNumber','CustomerId','Surname'],inplace=True,axis=1)"
   ]
  },
  {
   "cell_type": "code",
   "execution_count": 8,
   "metadata": {},
   "outputs": [
    {
     "data": {
      "text/plain": [
       "CreditScore        0\n",
       "Geography          0\n",
       "Gender             0\n",
       "Age                0\n",
       "Tenure             0\n",
       "Balance            0\n",
       "NumOfProducts      0\n",
       "HasCrCard          0\n",
       "IsActiveMember     0\n",
       "EstimatedSalary    0\n",
       "Exited             0\n",
       "dtype: int64"
      ]
     },
     "execution_count": 8,
     "metadata": {},
     "output_type": "execute_result"
    }
   ],
   "source": [
    "df.isnull().sum()"
   ]
  },
  {
   "cell_type": "code",
   "execution_count": 9,
   "metadata": {},
   "outputs": [
    {
     "data": {
      "text/plain": [
       "CreditScore         460\n",
       "Geography             3\n",
       "Gender                2\n",
       "Age                  70\n",
       "Tenure               11\n",
       "Balance            6382\n",
       "NumOfProducts         4\n",
       "HasCrCard             2\n",
       "IsActiveMember        2\n",
       "EstimatedSalary    9999\n",
       "Exited                2\n",
       "dtype: int64"
      ]
     },
     "execution_count": 9,
     "metadata": {},
     "output_type": "execute_result"
    }
   ],
   "source": [
    "df.nunique()"
   ]
  },
  {
   "cell_type": "code",
   "execution_count": 10,
   "metadata": {},
   "outputs": [
    {
     "name": "stdout",
     "output_type": "stream",
     "text": [
      "<class 'pandas.core.frame.DataFrame'>\n",
      "RangeIndex: 10000 entries, 0 to 9999\n",
      "Data columns (total 11 columns):\n",
      " #   Column           Non-Null Count  Dtype  \n",
      "---  ------           --------------  -----  \n",
      " 0   CreditScore      10000 non-null  int64  \n",
      " 1   Geography        10000 non-null  object \n",
      " 2   Gender           10000 non-null  object \n",
      " 3   Age              10000 non-null  int64  \n",
      " 4   Tenure           10000 non-null  int64  \n",
      " 5   Balance          10000 non-null  float64\n",
      " 6   NumOfProducts    10000 non-null  int64  \n",
      " 7   HasCrCard        10000 non-null  int64  \n",
      " 8   IsActiveMember   10000 non-null  int64  \n",
      " 9   EstimatedSalary  10000 non-null  float64\n",
      " 10  Exited           10000 non-null  int64  \n",
      "dtypes: float64(2), int64(7), object(2)\n",
      "memory usage: 859.5+ KB\n"
     ]
    }
   ],
   "source": [
    "df.info()"
   ]
  },
  {
   "cell_type": "code",
   "execution_count": 11,
   "metadata": {},
   "outputs": [
    {
     "data": {
      "text/plain": [
       "CreditScore         460\n",
       "Geography             3\n",
       "Gender                2\n",
       "Age                  70\n",
       "Tenure               11\n",
       "Balance            6382\n",
       "NumOfProducts         4\n",
       "HasCrCard             2\n",
       "IsActiveMember        2\n",
       "EstimatedSalary    9999\n",
       "Exited                2\n",
       "dtype: int64"
      ]
     },
     "execution_count": 11,
     "metadata": {},
     "output_type": "execute_result"
    }
   ],
   "source": [
    "df.nunique()\n"
   ]
  },
  {
   "cell_type": "markdown",
   "metadata": {},
   "source": [
    "# <h1>Identifying Feature Types</h1>\n",
    "## <h2>Categorical Features</h2>\n",
    "- To identify features with less than 4 unique values, excluding the target variable (`Exited`).\n",
    "\n",
    "## <h2>Numerical Features</h2>\n",
    "- To identify numerical features with 4 or more unique values, excluding the target variable (`Exited`).\n",
    "\n",
    "## <h2>Further Segmentation</h2>\n",
    "- Numerical features can be split into:\n",
    "  - **Discrete Features**: Features with a limited set of distinct values.\n",
    "  - **Continuous Features**: Features with a wide range of unique values.\n",
    "- Categorical features might also require encoding for use in modeling.\n"
   ]
  },
  {
   "cell_type": "code",
   "execution_count": 12,
   "metadata": {},
   "outputs": [
    {
     "name": "stdout",
     "output_type": "stream",
     "text": [
      "Number of Catergorical Features :  4\n",
      "Number of Numerical Features :  6\n"
     ]
    }
   ],
   "source": [
    "catergorical_features=[feature for feature in df.columns if len(df[feature].value_counts())<4 and feature!='Exited']\n",
    "print(\"Number of Catergorical Features : \",len(catergorical_features))\n",
    "numerical_features=[feature for feature in df.columns if df[feature].dtype!='O' and len(df[feature].value_counts())>=4 and feature!='Exited']\n",
    "print(\"Number of Numerical Features : \",len(numerical_features))"
   ]
  },
  {
   "cell_type": "code",
   "execution_count": 13,
   "metadata": {},
   "outputs": [
    {
     "name": "stdout",
     "output_type": "stream",
     "text": [
      "['CreditScore', 'Age', 'Balance', 'EstimatedSalary']\n",
      "['Tenure', 'NumOfProducts']\n"
     ]
    }
   ],
   "source": [
    "continuous_features=[feature for feature in numerical_features if len(df[feature].value_counts())>20]\n",
    "print(continuous_features)\n",
    "\n",
    "discrete_features=[feature for feature in numerical_features if len(df[feature].value_counts())<20]\n",
    "print(discrete_features)"
   ]
  },
  {
   "cell_type": "code",
   "execution_count": 14,
   "metadata": {},
   "outputs": [
    {
     "data": {
      "text/html": [
       "<div>\n",
       "<style scoped>\n",
       "    .dataframe tbody tr th:only-of-type {\n",
       "        vertical-align: middle;\n",
       "    }\n",
       "\n",
       "    .dataframe tbody tr th {\n",
       "        vertical-align: top;\n",
       "    }\n",
       "\n",
       "    .dataframe thead th {\n",
       "        text-align: right;\n",
       "    }\n",
       "</style>\n",
       "<table border=\"1\" class=\"dataframe\">\n",
       "  <thead>\n",
       "    <tr style=\"text-align: right;\">\n",
       "      <th></th>\n",
       "      <th>CreditScore</th>\n",
       "      <th>Age</th>\n",
       "      <th>Tenure</th>\n",
       "      <th>Balance</th>\n",
       "      <th>NumOfProducts</th>\n",
       "      <th>EstimatedSalary</th>\n",
       "    </tr>\n",
       "  </thead>\n",
       "  <tbody>\n",
       "    <tr>\n",
       "      <th>CreditScore</th>\n",
       "      <td>1.000000</td>\n",
       "      <td>-0.003965</td>\n",
       "      <td>0.000842</td>\n",
       "      <td>0.006268</td>\n",
       "      <td>0.012238</td>\n",
       "      <td>-0.001384</td>\n",
       "    </tr>\n",
       "    <tr>\n",
       "      <th>Age</th>\n",
       "      <td>-0.003965</td>\n",
       "      <td>1.000000</td>\n",
       "      <td>-0.009997</td>\n",
       "      <td>0.028308</td>\n",
       "      <td>-0.030680</td>\n",
       "      <td>-0.007201</td>\n",
       "    </tr>\n",
       "    <tr>\n",
       "      <th>Tenure</th>\n",
       "      <td>0.000842</td>\n",
       "      <td>-0.009997</td>\n",
       "      <td>1.000000</td>\n",
       "      <td>-0.012254</td>\n",
       "      <td>0.013444</td>\n",
       "      <td>0.007784</td>\n",
       "    </tr>\n",
       "    <tr>\n",
       "      <th>Balance</th>\n",
       "      <td>0.006268</td>\n",
       "      <td>0.028308</td>\n",
       "      <td>-0.012254</td>\n",
       "      <td>1.000000</td>\n",
       "      <td>-0.304180</td>\n",
       "      <td>0.012797</td>\n",
       "    </tr>\n",
       "    <tr>\n",
       "      <th>NumOfProducts</th>\n",
       "      <td>0.012238</td>\n",
       "      <td>-0.030680</td>\n",
       "      <td>0.013444</td>\n",
       "      <td>-0.304180</td>\n",
       "      <td>1.000000</td>\n",
       "      <td>0.014204</td>\n",
       "    </tr>\n",
       "    <tr>\n",
       "      <th>EstimatedSalary</th>\n",
       "      <td>-0.001384</td>\n",
       "      <td>-0.007201</td>\n",
       "      <td>0.007784</td>\n",
       "      <td>0.012797</td>\n",
       "      <td>0.014204</td>\n",
       "      <td>1.000000</td>\n",
       "    </tr>\n",
       "  </tbody>\n",
       "</table>\n",
       "</div>"
      ],
      "text/plain": [
       "                 CreditScore       Age    Tenure   Balance  NumOfProducts  \\\n",
       "CreditScore         1.000000 -0.003965  0.000842  0.006268       0.012238   \n",
       "Age                -0.003965  1.000000 -0.009997  0.028308      -0.030680   \n",
       "Tenure              0.000842 -0.009997  1.000000 -0.012254       0.013444   \n",
       "Balance             0.006268  0.028308 -0.012254  1.000000      -0.304180   \n",
       "NumOfProducts       0.012238 -0.030680  0.013444 -0.304180       1.000000   \n",
       "EstimatedSalary    -0.001384 -0.007201  0.007784  0.012797       0.014204   \n",
       "\n",
       "                 EstimatedSalary  \n",
       "CreditScore            -0.001384  \n",
       "Age                    -0.007201  \n",
       "Tenure                  0.007784  \n",
       "Balance                 0.012797  \n",
       "NumOfProducts           0.014204  \n",
       "EstimatedSalary         1.000000  "
      ]
     },
     "execution_count": 14,
     "metadata": {},
     "output_type": "execute_result"
    }
   ],
   "source": [
    "df[numerical_features].corr()"
   ]
  },
  {
   "cell_type": "markdown",
   "metadata": {},
   "source": [
    "# <h1>Correlation Heatmap for Numerical Features</h1>\n",
    "- To visualize the pairwise correlation between numerical features.\n",
    "- Helps identify multicollinearity, which can influence model performance.\n"
   ]
  },
  {
   "cell_type": "code",
   "execution_count": 15,
   "metadata": {},
   "outputs": [
    {
     "data": {
      "text/plain": [
       "<Axes: >"
      ]
     },
     "execution_count": 15,
     "metadata": {},
     "output_type": "execute_result"
    },
    {
     "data": {
      "image/png": "[encoded data removed]",
      "text/plain": [
       "<Figure size 640x480 with 2 Axes>"
      ]
     },
     "metadata": {},
     "output_type": "display_data"
    }
   ],
   "source": [
    "sns.heatmap(df[numerical_features].corr())"
   ]
  },
  {
   "cell_type": "code",
   "execution_count": 16,
   "metadata": {},
   "outputs": [
    {
     "name": "stdout",
     "output_type": "stream",
     "text": [
      "Exited\n",
      "0    79.63\n",
      "1    20.37\n",
      "Name: proportion, dtype: float64\n"
     ]
    }
   ],
   "source": [
    "exit_count=df['Exited'].value_counts(normalize=True)*100\n",
    "print(exit_count)"
   ]
  },
  {
   "cell_type": "code",
   "execution_count": 17,
   "metadata": {},
   "outputs": [
    {
     "data": {
      "image/png": "[encoded data removed]",
      "text/plain": [
       "<Figure size 1000x1000 with 1 Axes>"
      ]
     },
     "metadata": {},
     "output_type": "display_data"
    }
   ],
   "source": [
    "label=[\"Loyal\",\"Exited\"]\n",
    "plt.figure(figsize=(10,10))\n",
    "plt.pie(exit_count,labels=label,autopct='%1.2f%%',startangle=180,shadow=True,explode=[0,0.07])\n",
    "plt.title(\"Proportion of Customers churned vs Loyal customers\", size = 20)\n",
    "plt.show()"
   ]
  },
  {
   "cell_type": "markdown",
   "metadata": {},
   "source": [
    "# <h1>Key Insights from Visualizations</h1>\n",
    "- **Tenure:** Higher churn for customers with 1 or 10 years of tenure.\n",
    "- **NumOfProducts:** Single-product customers churn more; offering more products might help.\n",
    "- **Geography:** Higher churn in Germany; regional strategies needed.\n",
    "- **Gender:** Slightly higher churn for females; tailored campaigns may help.\n",
    "- **HasCrCard:** Minimal impact on churn; low predictive value.\n",
    "- **IsActiveMember:** Inactive members churn more; engagement strategies needed.\n"
   ]
  },
  {
   "cell_type": "code",
   "execution_count": null,
   "metadata": {},
   "outputs": [],
   "source": [
    "combined=discrete_features+catergorical_features\n",
    "n=len(combined)\n",
    "fig, axes = plt.subplots(3, 2, figsize=(15, 15))\n",
    "for i in range(n):\n",
    "    sns.countplot(data=df, x=combined[i], hue='Exited', ax=axes[int(i/2),i%2])\n",
    "    axes[int(i/2)][i%2].set_title(f\"{combined[i]} vs Exited\")"
   ]
  },
  {
   "cell_type": "markdown",
   "metadata": {},
   "source": [
    "# <h1>Insights from Boxplots</h1>\n",
    "\n",
    "## <h2>CreditScore vs Exited</h2>\n",
    "- No significant difference in credit scores between churned and non-churned customers.\n",
    "- CreditScore might have limited predictive value.\n",
    "\n",
    "## <h2>Age vs Exited</h2>\n",
    "- Churned customers tend to be older, with a higher median age compared to non-churned customers.\n",
    "- Age is likely an important factor influencing churn.\n",
    "\n",
    "## <h2>Tenure vs Exited</h2>\n",
    "- The distribution of tenure is similar for churned and non-churned customers, but slight differences may exist for shorter tenures.\n",
    "- Tenure might have moderate predictive power.\n",
    "\n",
    "## <h2>Balance vs Exited</h2>\n",
    "- Churned customers tend to have higher balances, indicating that customers with significant account balances are at risk.\n",
    "- Balance is an important factor to consider for retention strategies.\n",
    "\n",
    "## <h2>NumOfProducts vs Exited</h2>\n",
    "- Churned customers tend to have slightly fewer products compared to non-churned customers.\n",
    "- Retention strategies could focus on encouraging customers to use more products.\n",
    "\n",
    "## <h2>EstimatedSalary vs Exited</h2>\n",
    "- No significant difference in estimated salaries between churned and non-churned customers.\n",
    "- EstimatedSalary might have limited impact on churn prediction.\n"
   ]
  },
  {
   "cell_type": "code",
   "execution_count": null,
   "metadata": {},
   "outputs": [],
   "source": [
    "n=len(numerical_features)\n",
    "fig, axes = plt.subplots(3, 2, figsize=(20, 20))\n",
    "for i in range(n):\n",
    "    if numerical_features[i]!='HasCrCard' and numerical_features[i]!='IsActiveMember':\n",
    "        sns.boxplot(data=df,x='Exited', y=numerical_features[i], hue='Exited', ax=axes[int(i/2),i%2])\n",
    "        axes[int(i/2)][i%2].set_title(f\"{numerical_features[i]} vs Exited\")\n",
    "    else: \n",
    "        print(numerical_features[i])"
   ]
  },
  {
   "cell_type": "markdown",
   "metadata": {},
   "source": [
    "# <h1>Age Outliers</h1>\n",
    "- Age shows significant outliers, especially for older customers.\n",
    "- Addressing these outliers (e.g., through binning or transformations) can improve model performance and interpretability.\n",
    "\n"
   ]
  },
  {
   "cell_type": "code",
   "execution_count": null,
   "metadata": {},
   "outputs": [],
   "source": [
    "bins = [0, 20, 40, 60, float('inf')]\n",
    "labels = ['0-20', '20-40', '40-60', '60+']\n",
    "\n",
    "df['Age_Binned'] = pd.cut(df['Age'], bins=bins, labels=labels)\n",
    "age_bin_order = [['0-20', '20-40', '40-60', '60+']] "
   ]
  },
  {
   "cell_type": "code",
   "execution_count": null,
   "metadata": {},
   "outputs": [],
   "source": [
    "ordinal_features=['Age_Binned']"
   ]
  },
  {
   "cell_type": "code",
   "execution_count": null,
   "metadata": {},
   "outputs": [],
   "source": [
    "df.head()"
   ]
  },
  {
   "cell_type": "code",
   "execution_count": null,
   "metadata": {},
   "outputs": [],
   "source": [
    "df.drop(columns='Age',axis=1,inplace=True)\n",
    "numerical_features.remove(\"Age\")"
   ]
  },
  {
   "cell_type": "code",
   "execution_count": null,
   "metadata": {},
   "outputs": [],
   "source": [
    "df['bal_ratio_sal']=df['Balance']/(df['EstimatedSalary']+1)\n",
    "numerical_features.append('bal_ratio_sal')"
   ]
  },
  {
   "cell_type": "markdown",
   "metadata": {},
   "source": [
    "# <h1>Transforming Binary Features</h1>\n",
    "- Replaced `0` with `-1` in `HasCrCard` and `IsActiveMember` to distinguish inactive or negative cases more clearly.\n",
    "- Helps models interpret the features as having distinct negative and positive states.\n"
   ]
  },
  {
   "cell_type": "code",
   "execution_count": null,
   "metadata": {},
   "outputs": [],
   "source": [
    "df['HasCrCard']=df['HasCrCard'].replace({0:-1})\n",
    "df['IsActiveMember']=df['IsActiveMember'].replace({0:-1})"
   ]
  },
  {
   "cell_type": "code",
   "execution_count": null,
   "metadata": {},
   "outputs": [],
   "source": [
    "df.head()"
   ]
  },
  {
   "cell_type": "code",
   "execution_count": null,
   "metadata": {},
   "outputs": [],
   "source": [
    "y=df['Exited']\n",
    "X=df.drop(columns='Exited')"
   ]
  },
  {
   "cell_type": "code",
   "execution_count": null,
   "metadata": {},
   "outputs": [],
   "source": [
    "y.value_counts()"
   ]
  },
  {
   "cell_type": "code",
   "execution_count": null,
   "metadata": {},
   "outputs": [],
   "source": [
    "from sklearn.model_selection import train_test_split\n",
    "X_train,X_test,y_train,y_test=train_test_split(X,y,test_size=0.3,random_state=42)\n"
   ]
  },
  {
   "cell_type": "code",
   "execution_count": null,
   "metadata": {},
   "outputs": [],
   "source": [
    "X_train.shape"
   ]
  },
  {
   "cell_type": "code",
   "execution_count": null,
   "metadata": {},
   "outputs": [],
   "source": [
    "scale_pos_ratio=(y_train==0).sum()/(y_train==1).sum()\n",
    "print(scale_pos_ratio)"
   ]
  },
  {
   "cell_type": "code",
   "execution_count": null,
   "metadata": {},
   "outputs": [],
   "source": [
    "X_train"
   ]
  },
  {
   "cell_type": "markdown",
   "metadata": {},
   "source": [
    "# <h1>Preprocessing Pipeline</h1>\n",
    "\n",
    "## <h2>Purpose</h2>\n",
    "- Automates preprocessing steps for categorical, numerical, and ordinal features to ensure consistency across training and unseen datasets.\n",
    "\n",
    "## <h2>Key Components</h2>\n",
    "1. **StandardScaler**:\n",
    "   - Applies scaling to `numerical_features` for normalization.\n",
    "2. **OneHotEncoder**:\n",
    "   - Encodes `catergorical_features` into binary vectors for machine learning compatibility.\n",
    "3. **OrdinalEncoder**:\n",
    "   - Encodes `ordinal_features` based on the defined order (`age_bin_order`).\n",
    "\n",
    "## <h2>ColumnTransformer</h2>\n",
    "- Combines all preprocessing steps into a single `ColumnTransformer` object for efficient application to both training and future unseen data.\n"
   ]
  },
  {
   "cell_type": "code",
   "execution_count": null,
   "metadata": {},
   "outputs": [],
   "source": [
    "from sklearn.preprocessing import OneHotEncoder,StandardScaler,OrdinalEncoder\n",
    "from sklearn.compose import ColumnTransformer\n",
    "\n",
    "\n",
    "numeric_transformer=StandardScaler()\n",
    "oh_transformer=OneHotEncoder(sparse_output=False,drop='first')\n",
    "ordinal_transformer = OrdinalEncoder(categories=age_bin_order)\n",
    "\n",
    "preprocessor=ColumnTransformer(\n",
    "    [\n",
    "        ('OneHotEncoder',oh_transformer,catergorical_features),\n",
    "        ('StandardScaler',numeric_transformer,numerical_features),\n",
    "        ('ordinal',ordinal_transformer,ordinal_features)\n",
    "    ]\n",
    ")\n"
   ]
  },
  {
   "cell_type": "code",
   "execution_count": null,
   "metadata": {},
   "outputs": [],
   "source": [
    "X_train_processed=preprocessor.fit_transform(X_train)"
   ]
  },
  {
   "cell_type": "code",
   "execution_count": null,
   "metadata": {},
   "outputs": [],
   "source": [
    "feature_names=preprocessor.get_feature_names_out()\n",
    "print(feature_names)"
   ]
  },
  {
   "cell_type": "code",
   "execution_count": null,
   "metadata": {},
   "outputs": [],
   "source": [
    "X_train_df = pd.DataFrame(X_train_processed, columns=feature_names)\n",
    "for i in range(len(X_train_df.columns)):\n",
    "    print(f\"{i} : {X_train_df.columns[i]}\")"
   ]
  },
  {
   "cell_type": "code",
   "execution_count": null,
   "metadata": {},
   "outputs": [],
   "source": [
    "X_train_df.describe()"
   ]
  },
  {
   "cell_type": "markdown",
   "metadata": {},
   "source": [
    "# <h1>Filtering High-Salary Customers</h1>\n",
    "\n",
    "- **Objective**: Identify customers with salaries above the 25th percentile for targeted strategies.\n",
    "- **Threshold**: Set at `0.8229033` to filter the top 25% of earners.\n"
   ]
  },
  {
   "cell_type": "code",
   "execution_count": null,
   "metadata": {},
   "outputs": [],
   "source": [
    "top25=0.8229033"
   ]
  },
  {
   "cell_type": "code",
   "execution_count": null,
   "metadata": {},
   "outputs": [],
   "source": [
    "X_test=preprocessor.transform(X_test)"
   ]
  },
  {
   "cell_type": "code",
   "execution_count": null,
   "metadata": {},
   "outputs": [],
   "source": [
    "from sklearn.svm import SVC\n",
    "from sklearn.ensemble import RandomForestClassifier\n",
    "from xgboost import XGBClassifier\n",
    "from sklearn.metrics import accuracy_score,classification_report,precision_score,recall_score,f1_score,ConfusionMatrixDisplay,roc_auc_score,roc_curve,confusion_matrix"
   ]
  },
  {
   "cell_type": "markdown",
   "metadata": {},
   "source": [
    "# <h1>Model Comparison Summary</h1>\n",
    "\n",
    "## <h2>Key Observations</h2>\n",
    "- **Dataset Imbalance**: The imbalance impacts recall significantly, as all models struggle to capture churners effectively.\n",
    "\n",
    "## <h2>Performance Highlights</h2>\n",
    "- **SVM**: Moderate precision (69%) but poor recall (42%), indicating challenges with identifying churners.\n",
    "- **RandomForest**: High precision (74%) but overfits on training data, with test recall only 47%.\n",
    "- **XGBoost**: Best balance between precision (67%) and recall (47%), generalizing well to test data.\n",
    "\n",
    "## <h2>Next Steps</h2>\n",
    "- Focus on addressing imbalance through techniques like resampling or adjusting `scale_pos_weight` in XGBoost.\n",
    "- Fine-tune models to improve recall without sacrificing precision.\n"
   ]
  },
  {
   "cell_type": "code",
   "execution_count": null,
   "metadata": {},
   "outputs": [],
   "source": [
    "models={\n",
    "    \"SVM\":SVC(),\n",
    "    \"RandomForestClassifier\":RandomForestClassifier(),\n",
    "    \"XGBoost\":XGBClassifier()\n",
    "}\n",
    "\n",
    "\n",
    "for i in range(len(list(models))):\n",
    "    model=list(models.values())[i]\n",
    "    print(list(models.keys())[i])   \n",
    "    model.fit(X_train_processed,y_train)\n",
    "    print(model.get_params())\n",
    "    y_train_pred=model.predict(X_train_processed)\n",
    "    y_test_pred=model.predict(X_test)\n",
    "    model_train_accuracy=accuracy_score(y_train,y_train_pred)\n",
    "    model_train_f1=f1_score(y_train,y_train_pred)\n",
    "    model_train_precision=precision_score(y_train,y_train_pred)\n",
    "    model_train_recall=recall_score(  y_train,y_train_pred  )\n",
    "    \n",
    "\n",
    "    model_test_accuracy=accuracy_score(y_test,y_test_pred)\n",
    "    model_test_f1=f1_score(y_test,y_test_pred)\n",
    "    model_test_precision=precision_score(y_test,y_test_pred)\n",
    "    model_test_recall=recall_score(y_test,y_test_pred)\n",
    "    \n",
    "    print(\"Model Performance on Training Set\")\n",
    "    print(f\"Test Accuracy : {model_train_accuracy}\")\n",
    "    print(f\"F1 Score : {model_train_f1}\")\n",
    "    print(f\"Train Precision : {model_train_precision}\")\n",
    "    print(f\"Train Recall : {model_train_recall}\")\n",
    "    print()\n",
    "    print(\"Model Performance on Testing Set\")\n",
    "    print(f\"Test Accuracy : {model_test_accuracy}\")\n",
    "    print(f\"F1 Score : {model_test_f1}\")\n",
    "    print(f\"Test Precision : {model_test_precision}\")\n",
    "    print(f\"Test Recall : {model_test_recall}\")\n",
    "    print()\n",
    "    print(\"**************************************************\")"
   ]
  },
  {
   "cell_type": "markdown",
   "metadata": {},
   "source": [
    "# <h1>Randomized Search for Hyperparameter Tuning</h1>\n",
    "\n",
    "## <h2>Purpose</h2>\n",
    "- Perform hyperparameter tuning for multiple models using **RandomizedSearchCV** to identify the best parameter combinations.\n",
    "\n",
    "## <h2>Process</h2>\n",
    "1. **Iterate Through Models**:\n",
    "   - For each model in `random_cv_models`, apply randomized search over the given parameter distributions.\n",
    "2. **Key Settings**:\n",
    "   - `n_iter=30`: Searches 30 random combinations of hyperparameters.\n",
    "   - `cv=5`: Uses 5-fold cross-validation to evaluate performance.\n",
    "   - `n_jobs=-1`: Utilizes all available CPU cores for faster execution.\n",
    "\n",
    "## <h2>Outputs</h2>\n",
    "- Stores the best parameters for each model in `model_params`.\n",
    "- Prints the optimal hyperparameters for each model, providing insights for improved performance.\n"
   ]
  },
  {
   "cell_type": "code",
   "execution_count": null,
   "metadata": {},
   "outputs": [],
   "source": [
    "\n",
    "svc_params = {\n",
    "    'C': [0.01, 0.1, 1, 10, 100], \n",
    "    'kernel': ['rbf'], \n",
    "    'gamma': [0.001, 0.01, 0.1, 1, 10]\n",
    "    }\n",
    "\n",
    "\n",
    "rf_params = {\n",
    "    'n_estimators': [100, 200, 500],\n",
    "    'max_depth': [10, 20, None],\n",
    "    'min_samples_split': [2, 5, 10],\n",
    "    'max_features': ['sqrt', 'log2', None],\n",
    "}\n",
    "\n",
    "xgb_params = {\n",
    "    'n_estimators': [100, 200, 500],\n",
    "    'max_depth': [3, 5, 10],\n",
    "    'learning_rate': [0.005, 0.01, 0.02, 0.1, 0.2],\n",
    "    'gamma': [0, 0.1, 0.5],\n",
    "    'subsample': [0.7, 1],\n",
    "    'colsample_bytree': [0.7, 1],\n",
    "    'max_depth':[5,8,12,20,30],\n",
    "    'scale_pos_weight':[scale_pos_ratio]\n",
    "\n",
    "\n",
    "}\n"
   ]
  },
  {
   "cell_type": "code",
   "execution_count": null,
   "metadata": {},
   "outputs": [],
   "source": [
    "random_cv_models=[('RF',RandomForestClassifier(),rf_params),('XGBoost',XGBClassifier(scale_pos_weight=scale_pos_ratio),xgb_params),('SVC',SVC(),svc_params)]\n",
    "random_cv_models"
   ]
  },
  {
   "cell_type": "code",
   "execution_count": null,
   "metadata": {},
   "outputs": [],
   "source": [
    "from sklearn.model_selection import RandomizedSearchCV\n",
    "model_params={}\n",
    "for name,model,params in random_cv_models:\n",
    "    random=RandomizedSearchCV (estimator=model,\n",
    "                              param_distributions=params,\n",
    "                              n_iter=30,\n",
    "                              cv=5,\n",
    "                              verbose=1,\n",
    "                              n_jobs=-1\n",
    "                              )\n",
    "    random.fit(X_train_processed,y_train)\n",
    "    model_params[name]=random.best_params_\n",
    "\n",
    "for model_name in model_params:\n",
    "    print(f\"--------- Best Params for {model_name} --------\")\n",
    "    print(model_params[model_name])"
   ]
  },
  {
   "cell_type": "code",
   "execution_count": null,
   "metadata": {},
   "outputs": [],
   "source": [
    "\n",
    "models={\n",
    "    \"Random Forest\":RandomForestClassifier(n_estimators= 100, min_samples_split= 10, max_features= None, max_depth= 10),\n",
    "    \"XGBoost\":XGBClassifier(subsample= 0.7, n_estimators= 500, max_depth= 12, learning_rate= 0.02, gamma= 0.1, colsample_bytree= 1,scale_pos_weight=scale_pos_ratio),\n",
    "    \"SVC\":SVC(kernel= 'rbf', gamma= 0.01, C= 100)\n",
    "    }\n",
    "for i in range(len(list(models))):\n",
    "    model=list(models.values())[i]\n",
    "    model.fit(X_train_processed,y_train)\n",
    "    y_train_pred=model.predict(X_train_processed)\n",
    "    y_test_pred=model.predict(X_test)\n",
    "    model_train_accuracy=accuracy_score(y_train,y_train_pred)\n",
    "    model_train_f1=f1_score(y_train,y_train_pred)\n",
    "    model_train_precision=precision_score(y_train,y_train_pred)\n",
    "    model_train_recall=recall_score(  y_train,y_train_pred  )\n",
    "    model_test_accuracy=accuracy_score(y_test,y_test_pred)\n",
    "    model_test_f1=f1_score(y_test,y_test_pred)\n",
    "    model_test_precision=precision_score(y_test,y_test_pred)\n",
    "    model_test_recall=recall_score(y_test,y_test_pred)\n",
    "    print(list(models.keys())[i])\n",
    "    print(\"**************************************************\")\n",
    "    print()\n",
    "    print(\"Model Performance on Training Set\")\n",
    "    print(f\"Train Accuracy : {model_train_accuracy}\")\n",
    "    print(f\"F1 Score : {model_train_f1}\")\n",
    "    print(f\"Train Precision : {model_train_precision}\")\n",
    "    print(f\"Train Recall : {model_train_recall}\")\n",
    "    print()\n",
    "    print(\"Model Performance on Testing Set\")\n",
    "    print(f\"Test Accuracy : {model_test_accuracy}\")\n",
    "    print(f\"F1 Score : {model_test_f1}\")\n",
    "    print(f\"Test Precision : {model_test_precision}\")\n",
    "    print(f\"Test Recall : {model_test_recall}\")\n",
    "    print()\n",
    "    print(\"**************************************************\")"
   ]
  },
  {
   "cell_type": "markdown",
   "metadata": {},
   "source": [
    "# <h1>Model Performance Summary</h1>\n",
    "\n",
    "## <h2>Random Forest</h2>\n",
    "- **Training Set**:\n",
    "  - Good accuracy (89%) and high precision (87%), but lower recall (59%) indicates difficulty capturing churners.\n",
    "- **Testing Set**:\n",
    "  - Balanced accuracy (86%) with strong precision (70%) but recall (48%) is limited.\n",
    "- **Takeaway**: Overfitting is controlled, but recall remains a bottleneck due to dataset imbalance.\n",
    "\n",
    "---\n",
    "\n",
    "## <h2>XGBoost</h2>\n",
    "- **Training Set**:\n",
    "  - Extremely high performance with nearly perfect F1 score (0.99), indicating overfitting.\n",
    "- **Testing Set**:\n",
    "  - Moderate accuracy (84%) and balanced precision (59%) and recall (55%).\n",
    "- **Takeaway**: Needs tuning to reduce overfitting and improve generalization.\n",
    "\n",
    "---\n",
    "\n",
    "## <h2>SVC</h2>\n",
    "- **Training Set**:\n",
    "  - Moderate performance with accuracy (84%) and F1 score (0.55). Recall (45%) indicates limited ability to detect churners.\n",
    "- **Testing Set**:\n",
    "  - Comparable accuracy (85%) but slightly better precision (68%) than recall (45%).\n",
    "- **Takeaway**: Precision is prioritized, but recall needs significant improvement.\n",
    "\n",
    "---\n",
    "\n"
   ]
  },
  {
   "cell_type": "markdown",
   "metadata": {},
   "source": [
    "# <h1>Proceeding with XGBoost</h1>\n",
    "\n",
    "## <h2>Reason for Selection</h2>\n",
    "- **Most Rounded Performance**: XGBoost offers a good balance between precision (59%) and recall (55%) on the testing set.\n",
    "- **Generalization**: While slightly overfitted to training data, its recall is higher compared to other models, making it suitable for churn prediction.\n",
    "\n",
    "## <h2>Next Steps</h2>\n",
    "1. **Hyperparameter Tuning**:\n",
    "   - Further optimize parameters like `scale_pos_weight`, `learning_rate`, and `max_depth` to improve recall without sacrificing precision.\n",
    "2. **Address Overfitting**:\n",
    "   - Use techniques like regularization or early stopping.\n",
    "3. **Feature Importance Analysis**:\n",
    "   - Use SHAP or feature importance to interpret the model and refine inputs.\n",
    "4. **Evaluate on Business Metrics**:\n",
    "   - Ensure predictions align with business goals (e.g., reducing false negatives to retain more customers).\n",
    "\n"
   ]
  },
  {
   "cell_type": "code",
   "execution_count": null,
   "metadata": {},
   "outputs": [],
   "source": [
    "from sklearn.model_selection import GridSearchCV\n",
    "from xgboost import XGBClassifier\n",
    "\n",
    "\n",
    "xgb_params = {\n",
    "    'n_estimators': [100, 200, 300], \n",
    "    'max_depth': [3, 5, 7],          \n",
    "    'learning_rate': [0.01, 0.1, 0.2],  \n",
    "    'subsample': [0.8, 1.0],        \n",
    "    'colsample_bytree': [0.8, 1.0],  \n",
    "    'gamma': [0, 0.1, 0.3],          \n",
    "    'scale_pos_weight': [scale_pos_ratio]\n",
    "}\n",
    "\n",
    "\n",
    "xgb_model = XGBClassifier(\n",
    "    objective='binary:logistic',       \n",
    "    eval_metric='logloss',            \n",
    "    random_state=42                  \n",
    ")\n",
    "\n",
    "grid_search = GridSearchCV(\n",
    "    estimator=xgb_model,\n",
    "    param_grid=xgb_params,\n",
    "    scoring='f1', \n",
    "    cv=5,          \n",
    "    verbose=1,     \n",
    "    n_jobs=-1      \n",
    ")\n",
    "\n",
    "\n",
    "grid_search.fit(X_train_processed, y_train)\n",
    "\n",
    "print(\"Best Parameters:\", grid_search.best_params_)\n",
    "print(\"Best F1 Score:\", grid_search.best_score_)"
   ]
  },
  {
   "cell_type": "code",
   "execution_count": null,
   "metadata": {},
   "outputs": [],
   "source": [
    "from sklearn.metrics import accuracy_score, f1_score, precision_score, recall_score, roc_auc_score, roc_curve\n",
    "import matplotlib.pyplot as plt\n",
    "\n",
    "\n",
    "models = {\n",
    "    \"XGBoost\": XGBClassifier(colsample_bytree= 0.8, gamma= 0, learning_rate= 0.01, max_depth= 7, n_estimators= 200, scale_pos_weight= scale_pos_ratio, subsample= 0.8)\n",
    "}\n",
    "\n",
    "\n",
    "for name, model in models.items():\n",
    "   \n",
    "    model.fit(X_train_processed, y_train)\n",
    "\n",
    "  \n",
    "    y_train_pred = model.predict(X_train_processed)\n",
    "    y_test_pred = model.predict(X_test)\n",
    "\n",
    "\n",
    "    y_train_proba = model.predict_proba(X_train_processed)[:, 1]\n",
    "    y_test_proba = model.predict_proba(X_test)[:, 1]\n",
    "\n",
    "\n",
    "    model_train_accuracy = accuracy_score(y_train, y_train_pred)\n",
    "    model_train_f1 = f1_score(y_train, y_train_pred)\n",
    "    model_train_precision = precision_score(y_train, y_train_pred)\n",
    "    model_train_recall = recall_score(y_train, y_train_pred)\n",
    "    model_train_rocauc_score = roc_auc_score(y_train, y_train_proba)\n",
    "\n",
    "\n",
    "    model_test_accuracy = accuracy_score(y_test, y_test_pred)\n",
    "    model_test_f1 = f1_score(y_test, y_test_pred)\n",
    "    model_test_precision = precision_score(y_test, y_test_pred)\n",
    "    model_test_recall = recall_score(y_test, y_test_pred)\n",
    "    model_test_rocauc_score = roc_auc_score(y_test, y_test_proba)\n",
    "\n",
    "    print(f\"Model: {name}\")\n",
    "    print(\"**************************************************\")\n",
    "    print(\"\\nModel Performance on Training Set\")\n",
    "    print(f\"Train Accuracy : {model_train_accuracy}\")\n",
    "    print(f\"Train F1 Score : {model_train_f1}\")\n",
    "    print(f\"Train Precision : {model_train_precision}\")\n",
    "    print(f\"Train Recall : {model_train_recall}\")\n",
    "    print(f\"Train ROC AUC Score : {model_train_rocauc_score}\\n\")\n",
    "\n",
    "    print(\"Model Performance on Testing Set\")\n",
    "    print(f\"Test Accuracy : {model_test_accuracy}\")\n",
    "    print(f\"Test F1 Score : {model_test_f1}\")\n",
    "    print(f\"Test Precision : {model_test_precision}\")\n",
    "    print(f\"Test Recall : {model_test_recall}\")\n",
    "    print(f\"Test ROC AUC Score : {model_test_rocauc_score}\\n\")\n",
    "    print(\"**************************************************\")\n",
    "\n",
    "\n",
    "    fpr, tpr, _ = roc_curve(y_test, y_test_proba)\n",
    "    plt.plot(fpr, tpr, label=f\"{name} (AUC = {model_test_rocauc_score:.2f})\")\n",
    "\n",
    "\n",
    "plt.plot([0, 1], [0, 1], 'k--', label=\"Random Guess\")\n",
    "plt.title(\"ROC Curve\")\n",
    "plt.xlabel(\"False Positive Rate\")\n",
    "plt.ylabel(\"True Positive Rate\")\n",
    "plt.legend()\n",
    "plt.show()\n"
   ]
  },
  {
   "cell_type": "markdown",
   "metadata": {},
   "source": [
    "# <h1>XGBoost Model Performance Summary</h1>\n",
    "\n",
    "## <h2>Training Set</h2>\n",
    "- **Balanced Performance**: Good F1 score (0.70) with high recall (84%), indicating the model effectively captures churners.\n",
    "- **Precision Gap**: Lower precision (60%) suggests some false positives in predictions.\n",
    "\n",
    "## <h2>Testing Set</h2>\n",
    "- **Recall Strength**: High recall (73%) confirms the model's ability to identify churners in unseen data.\n",
    "- **Precision Tradeoff**: Precision (50%) is lower, indicating the model flags more non-churners as churners.\n",
    "- **AUC-ROC**: Strong ROC AUC score (0.86) shows the model distinguishes well between classes.\n",
    "\n",
    "## <h2>Takeaway</h2>\n",
    "- **Why Move Forward**: High recall makes this model ideal for minimizing missed churners, which is critical for churn prevention.\n"
   ]
  },
  {
   "cell_type": "code",
   "execution_count": null,
   "metadata": {},
   "outputs": [],
   "source": [
    "\n",
    "xgb_params = {\n",
    "    'n_estimators': [100, 200],         \n",
    "    'max_depth': [7, 8],                  \n",
    "    'learning_rate': [0.01, 0.02],\n",
    "    'subsample': [0.8, 0.85],              \n",
    "    'colsample_bytree': [0.7, 0.75],         \n",
    "    'gamma': [0.2, 0.3],                \n",
    "    'scale_pos_weight': [3.5, 4.0], \n",
    "    'min_child_weight': [ 3, 5],           \n",
    "    'reg_alpha': [0, 0.5],            \n",
    "    'reg_lambda': [1, 2]  \n",
    "}\n",
    "xgb_model = XGBClassifier(\n",
    "    objective='binary:logistic',       \n",
    "    eval_metric='logloss',            \n",
    "    random_state=42                  \n",
    ")\n",
    "grid_search = GridSearchCV(\n",
    "    estimator=xgb_model,\n",
    "    param_grid=xgb_params,\n",
    "    scoring='f1', \n",
    "    cv=5,          \n",
    "    verbose=1,     \n",
    "    n_jobs=-1      \n",
    ")\n",
    "grid_search.fit(X_train_processed, y_train)\n",
    "print(\"Best Parameters:\", grid_search.best_params_)\n",
    "print(\"Best F1 Score:\", grid_search.best_score_)"
   ]
  },
  {
   "cell_type": "markdown",
   "metadata": {},
   "source": [
    "# <h1>XGBoost Model Performance Summary</h1>\n",
    "\n",
    "## <h2>Training Set</h2>\n",
    "- **Accuracy**: 84.2% - Indicates good overall prediction correctness.\n",
    "- **F1 Score**: 0.67 - Reflects a balance between precision and recall.\n",
    "- **Precision**: 59% - Moderate performance, with some false positives.\n",
    "- **Recall**: 78% - Strong ability to capture churners, crucial for an imbalanced dataset.\n",
    "- **ROC AUC**: 0.90 - Excellent discriminative power in separating churners from non-churners.\n",
    "\n",
    "## <h2>Testing Set</h2>\n",
    "- **Accuracy**: 81.1% - Consistent with training accuracy, showing good generalization.\n",
    "- **F1 Score**: 0.59 - Balanced performance, prioritizing recall due to dataset imbalance.\n",
    "- **Precision**: 51% - Indicates higher false positives but necessary for high recall.\n",
    "- **Recall**: 70% - Ensures most churners are identified, critical in a skewed dataset.\n",
    "- **ROC AUC**: 0.86 - Strong ability to differentiate between churners and non-churners.\n",
    "\n",
    "## <h2>Impact of Imbalanced Dataset</h2>\n",
    "- **Skewed Classes**: Dataset has significantly more non-churners than churners, affecting precision and recall tradeoffs.\n",
    "- **Focus on Recall**: Higher recall (70%) is essential to minimize missed churners, even if it increases false positives.\n",
    "- **Weight Adjustments**: `scale_pos_weight` effectively addresses class imbalance by emphasizing the minority class.\n",
    "\n",
    "## <h2>Takeaway</h2>\n",
    "- **Strength**: High recall ensures churners are identified, aligning with business goals for customer retention.\n",
    "- **Tradeoff**: Lower precision is acceptable given the focus on capturing more churners.\n"
   ]
  },
  {
   "cell_type": "code",
   "execution_count": null,
   "metadata": {},
   "outputs": [],
   "source": [
    "from sklearn.metrics import accuracy_score, f1_score, precision_score, recall_score, roc_auc_score, roc_curve\n",
    "import matplotlib.pyplot as plt\n",
    "\n",
    "\n",
    "models = {\n",
    "    \"XGBoost\": XGBClassifier(colsample_bytree= 0.75, gamma= 0.2, learning_rate= 0.01, max_depth= 7, min_child_weight= 3, n_estimators= 100, reg_alpha= 0.5, reg_lambda= 2, scale_pos_weight= 3.5, subsample= 0.8)\n",
    "}\n",
    "\n",
    "\n",
    "for name, model in models.items():\n",
    "   \n",
    "    model.fit(X_train_processed, y_train)\n",
    "\n",
    "  \n",
    "    y_train_pred = model.predict(X_train_processed)\n",
    "    y_test_pred = model.predict(X_test)\n",
    "\n",
    "\n",
    "    y_train_proba = model.predict_proba(X_train_processed)[:, 1]\n",
    "    y_test_proba = model.predict_proba(X_test)[:, 1]\n",
    "\n",
    "\n",
    "    model_train_accuracy = accuracy_score(y_train, y_train_pred)\n",
    "    model_train_f1 = f1_score(y_train, y_train_pred)\n",
    "    model_train_precision = precision_score(y_train, y_train_pred)\n",
    "    model_train_recall = recall_score(y_train, y_train_pred)\n",
    "    model_train_rocauc_score = roc_auc_score(y_train, y_train_proba)\n",
    "\n",
    "\n",
    "    model_test_accuracy = accuracy_score(y_test, y_test_pred)\n",
    "    model_test_f1 = f1_score(y_test, y_test_pred)\n",
    "    model_test_precision = precision_score(y_test, y_test_pred)\n",
    "    model_test_recall = recall_score(y_test, y_test_pred)\n",
    "    model_test_rocauc_score = roc_auc_score(y_test, y_test_proba)\n",
    "\n",
    "    print(f\"Model: {name}\")\n",
    "    print(\"**************************************************\")\n",
    "    print(\"\\nModel Performance on Training Set\")\n",
    "    print(f\"Train Accuracy : {model_train_accuracy}\")\n",
    "    print(f\"Train F1 Score : {model_train_f1}\")\n",
    "    print(f\"Train Precision : {model_train_precision}\")\n",
    "    print(f\"Train Recall : {model_train_recall}\")\n",
    "    print(f\"Train ROC AUC Score : {model_train_rocauc_score}\\n\")\n",
    "\n",
    "    print(\"Model Performance on Testing Set\")\n",
    "    print(f\"Test Accuracy : {model_test_accuracy}\")\n",
    "    print(f\"Test F1 Score : {model_test_f1}\")\n",
    "    print(f\"Test Precision : {model_test_precision}\")\n",
    "    print(f\"Test Recall : {model_test_recall}\")\n",
    "    print(f\"Test ROC AUC Score : {model_test_rocauc_score}\\n\")\n",
    "    print(\"**************************************************\")\n",
    "\n",
    "\n",
    "    fpr, tpr, _ = roc_curve(y_test, y_test_proba)\n",
    "    plt.plot(fpr, tpr, label=f\"{name} (AUC = {model_test_rocauc_score:.2f})\")\n",
    "\n",
    "\n",
    "plt.plot([0, 1], [0, 1], 'k--', label=\"Random Guess\")\n",
    "plt.title(\"ROC Curve\")\n",
    "plt.xlabel(\"False Positive Rate\")\n",
    "plt.ylabel(\"True Positive Rate\")\n",
    "plt.legend()\n",
    "plt.show()\n"
   ]
  },
  {
   "cell_type": "code",
   "execution_count": null,
   "metadata": {},
   "outputs": [],
   "source": [
    "import shap\n",
    "explainer = shap.TreeExplainer(model)\n",
    "shap_values = explainer.shap_values(X_train_processed)\n",
    "\n",
    "shap.summary_plot(shap_values, X_train_processed)\n",
    "\n",
    "shap.summary_plot(shap_values, X_train_processed, plot_type=\"bar\")"
   ]
  },
  {
   "cell_type": "markdown",
   "metadata": {},
   "source": [
    "# <h1>SHAP Summary Plot Analysis</h1>\n",
    "\n",
    "## <h2>Purpose</h2>\n",
    "- To interpret the feature importance and individual impact of features on the model's predictions.\n",
    "\n",
    "## <h2>Insights</h2>\n",
    "1. **Feature 15**:\n",
    "   - Most impactful feature, contributing significantly to the model's predictions.\n",
    "   - High values positively influence churn predictions.\n",
    "2. **Feature 12**:\n",
    "   - Second most important, with high variability indicating a diverse impact across predictions.\n",
    "3. **Feature 7**:\n",
    "   - Moderate influence, with noticeable differentiation between high and low feature values.\n",
    "4. **Other Features**:\n",
    "   - Features lower in the chart contribute less, potentially candidates for feature reduction.\n",
    "\n",
    "## <h2>Next Steps</h2>\n",
    "- Focus on optimizing and analyzing the top features for retention strategies.\n",
    "- Consider removing or transforming less impactful features to simplify the model.\n"
   ]
  },
  {
   "cell_type": "code",
   "execution_count": null,
   "metadata": {},
   "outputs": [],
   "source": [
    "X_train_df = pd.DataFrame(X_train_processed, columns=feature_names)\n",
    "X_test_df=pd.DataFrame(X_test, columns=feature_names)\n",
    "for i in range(len(X_train_df.columns)):\n",
    "    print(f\"{i} : {X_train_df.columns[i]}\")    "
   ]
  },
  {
   "cell_type": "code",
   "execution_count": null,
   "metadata": {},
   "outputs": [],
   "source": [
    "X_train_df.head()"
   ]
  },
  {
   "cell_type": "code",
   "execution_count": null,
   "metadata": {},
   "outputs": [],
   "source": [
    "X_train_df.drop(columns=['StandardScaler__Tenure','StandardScaler__CreditScore'],axis=1,inplace=True)\n",
    "X_test_df.drop(columns=['StandardScaler__Tenure','StandardScaler__CreditScore'],axis=1,inplace=True)\n"
   ]
  },
  {
   "cell_type": "code",
   "execution_count": null,
   "metadata": {},
   "outputs": [],
   "source": [
    "numerical_features.remove('Tenure')\n",
    "numerical_features.remove('CreditScore')\n",
    "numerical_features"
   ]
  },
  {
   "cell_type": "code",
   "execution_count": null,
   "metadata": {},
   "outputs": [],
   "source": [
    "numeric_transformer=StandardScaler()\n",
    "oh_transformer=OneHotEncoder(sparse_output=False,drop='first')\n",
    "ordinal_transformer = OrdinalEncoder(categories=age_bin_order)\n",
    "\n",
    "preprocessor=ColumnTransformer(\n",
    "    [\n",
    "        ('OneHotEncoder',oh_transformer,catergorical_features),\n",
    "        ('StandardScaler',numeric_transformer,numerical_features),\n",
    "        ('ordinal',ordinal_transformer,ordinal_features)\n",
    "    ]\n",
    ")\n"
   ]
  },
  {
   "cell_type": "code",
   "execution_count": null,
   "metadata": {},
   "outputs": [],
   "source": [
    "preprocessor"
   ]
  },
  {
   "cell_type": "code",
   "execution_count": null,
   "metadata": {},
   "outputs": [],
   "source": [
    "X_procesed=preprocessor.fit_transform(X_train)"
   ]
  },
  {
   "cell_type": "code",
   "execution_count": null,
   "metadata": {},
   "outputs": [],
   "source": [
    "\n",
    "xgb_params = {\n",
    "    'colsample_bytree': [0.75],              \n",
    "    'gamma': [0.15,0.2],                      \n",
    "    'learning_rate': [ 0.02],         \n",
    "    'max_depth': [ 7,8,9],\n",
    "    'min_child_weight': [2,4,3],   \n",
    "    'n_estimators': [175,180,200],         \n",
    "    'reg_alpha': [0.5],            \n",
    "    'reg_lambda': [ 1.25,1.2,1],             \n",
    "    'scale_pos_weight': [3.6,3.5 ], \n",
    "    'subsample': [0.8]\n",
    "}\n",
    "xgb_model = XGBClassifier(\n",
    "    objective='binary:logistic',       \n",
    "    eval_metric='logloss',            \n",
    "    random_state=42                  \n",
    ")\n",
    "grid_search = GridSearchCV(\n",
    "    estimator=xgb_model,\n",
    "    param_grid=xgb_params,\n",
    "    scoring='f1', \n",
    "    cv=3,          \n",
    "    verbose=1,     \n",
    "    n_jobs=-1      \n",
    ")\n",
    "grid_search.fit(X_train_df, y_train)\n",
    "print(\"Best Parameters:\", grid_search.best_params_)\n",
    "print(\"Best F1 Score:\", grid_search.best_score_)"
   ]
  },
  {
   "cell_type": "code",
   "execution_count": null,
   "metadata": {},
   "outputs": [],
   "source": [
    "from sklearn.metrics import accuracy_score, f1_score, precision_score, recall_score, roc_auc_score, roc_curve\n",
    "import matplotlib.pyplot as plt\n",
    "\n",
    "XGB_model = XGBClassifier(colsample_bytree= 0.75, gamma=0.2 , learning_rate= 0.0007, max_depth=9, min_child_weight= 4,\n",
    "                             n_estimators= 700, reg_alpha= 5, reg_lambda=1, scale_pos_weight=  3.6, subsample=0.8)\n",
    "                             \n",
    "                    \n",
    "\n",
    "\n",
    "\n",
    "   \n",
    "XGB_model.fit(X_train_df, y_train)\n",
    "\n",
    "\n",
    "y_train_pred = XGB_model.predict(X_train_df)\n",
    "y_test_pred = XGB_model.predict(X_test_df)\n",
    "\n",
    "\n",
    "y_train_proba = XGB_model.predict_proba(X_train_df)[:, 1]\n",
    "y_test_proba = XGB_model.predict_proba(X_test_df)[:, 1]\n",
    "\n",
    "\n",
    "XGB_model_train_accuracy = accuracy_score(y_train, y_train_pred)\n",
    "XGB_model_train_f1 = f1_score(y_train, y_train_pred)\n",
    "XGB_model_train_precision = precision_score(y_train, y_train_pred)\n",
    "XGB_model_train_recall = recall_score(y_train, y_train_pred)\n",
    "XGB_model_train_rocauc_score = roc_auc_score(y_train, y_train_proba)\n",
    "\n",
    "\n",
    "XGB_model_test_accuracy = accuracy_score(y_test, y_test_pred)\n",
    "XGB_model_test_f1 = f1_score(y_test, y_test_pred)\n",
    "XGB_model_test_precision = precision_score(y_test, y_test_pred)\n",
    "XGB_model_test_recall = recall_score(y_test, y_test_pred)\n",
    "XGB_model_test_rocauc_score = roc_auc_score(y_test, y_test_proba)\n",
    "\n",
    "print(f\"Model: XGBoost\")\n",
    "print(\"**************************************************\")\n",
    "print(\"Model Performance on Training Set\")\n",
    "print(f\"Train Accuracy : {XGB_model_train_accuracy}\")\n",
    "print(f\"Train F1 Score : {XGB_model_train_f1}\")\n",
    "print(f\"Train Precision : {XGB_model_train_precision}\")\n",
    "print(f\"Train Recall : {XGB_model_train_recall}\")\n",
    "print(f\"Train ROC AUC Score : {XGB_model_train_rocauc_score}\\n\")\n",
    "\n",
    "print(\"Model Performance on Testing Set\")\n",
    "print(f\"Test Accuracy : {XGB_model_test_accuracy}\")\n",
    "print(f\"Test F1 Score : {XGB_model_test_f1}\")\n",
    "print(f\"Test Precision : {XGB_model_test_precision}\")\n",
    "print(f\"Test Recall : {XGB_model_test_recall}\")\n",
    "print(f\"Test ROC AUC Score : {XGB_model_test_rocauc_score}\\n\")\n",
    "print(\"**************************************************\")\n",
    "\n",
    "\n",
    "fpr, tpr, _ = roc_curve(y_test, y_test_proba)\n",
    "plt.plot(fpr, tpr, label=f\"XGBoost (AUC = {XGB_model_test_rocauc_score:.2f})\")\n",
    "\n",
    "\n",
    "plt.plot([0, 1], [0, 1], 'k--', label=\"Random Guess\")\n",
    "plt.title(\"ROC Curve\")\n",
    "plt.xlabel(\"False Positive Rate\")\n",
    "plt.ylabel(\"True Positive Rate\")\n",
    "plt.legend()\n",
    "plt.show()\n"
   ]
  },
  {
   "cell_type": "markdown",
   "metadata": {},
   "source": [
    "# <h1>XGBoost Model Evaluation After Dropping Unwanted Columns</h1>\n",
    "\n",
    "## <h2>Training Set Performance</h2>\n",
    "- **Accuracy**: 83.1% - Good overall prediction correctness.\n",
    "- **F1 Score**: 0.65 - Balanced precision and recall.\n",
    "- **Precision**: 57.2% - Indicates some false positives in predictions.\n",
    "- **Recall**: 74.7% - Strong ability to identify churners, critical for imbalanced datasets.\n",
    "- **ROC AUC**: 0.89 - Strong ability to distinguish between churners and non-churners.\n",
    "\n",
    "## <h2>Testing Set Performance</h2>\n",
    "- **Accuracy**: 81.6% - Consistent with training accuracy, indicating good generalization.\n",
    "- **F1 Score**: 0.60 - Balanced performance prioritizing recall due to imbalance.\n",
    "- **Precision**: 51.9% - Reflects a tradeoff to improve recall.\n",
    "- **Recall**: 71.1% - High recall ensures most churners are identified.\n",
    "- **ROC AUC**: 0.86 - Strong discriminative power.\n",
    "\n",
    "## <h2>Key Takeaways</h2>\n",
    "- **Impact of Feature Reduction**:\n",
    "  - Model retains strong recall and ROC AUC after removing less relevant features.\n",
    "  - Precision has slightly decreased but remains acceptable due to the focus on recall.\n",
    "- **Imbalanced Dataset**:\n",
    "  - High recall aligns with the goal of identifying most churners in a skewed dataset.\n",
    "\n"
   ]
  },
  {
   "cell_type": "code",
   "execution_count": null,
   "metadata": {},
   "outputs": [],
   "source": [
    "explainer = shap.TreeExplainer(XGB_model)\n",
    "shap_values = explainer.shap_values(X_train_df)\n",
    "\n",
    "shap.summary_plot(shap_values, X_train_df)\n",
    "\n",
    "shap.summary_plot(shap_values, X_train_df, plot_type=\"bar\")"
   ]
  },
  {
   "cell_type": "markdown",
   "metadata": {},
   "source": [
    " # <h1>SHAP Summary Plot Analysis</h1>\n",
    "\n",
    "## <h2>Purpose</h2>\n",
    "- To interpret the impact of features on the XGBoost model’s predictions after removing less important columns.\n",
    "\n",
    "## <h2>Key Insights</h2>\n",
    "1. **Ordinal__Age_Binned**:\n",
    "   - The most significant feature, showing a strong impact on churn predictions.\n",
    "2. **StandardScaler__NumOfProducts**:\n",
    "   - Plays a critical role, with higher values positively influencing churn likelihood.\n",
    "3. **OneHotEncoder__IsActiveMember_-1**:\n",
    "   - Indicates the importance of customer activity in reducing churn.\n",
    "4. **OneHotEncoder__Geography_Germany**:\n",
    "   - Highlights geographic differences, with Germany being a significant churn factor.\n",
    "5. **StandardScaler__Balance and StandardScaler__bal_ratio_sal**:\n",
    "   - Financial features like account balance and balance-to-salary ratio remain influential.\n",
    "\n",
    "## <h2>Takeaway</h2>\n",
    "- **Key Drivers**:\n",
    "  - Age, product usage, activity status, and geography are critical churn predictors.\n",
    "- **Focus Areas**:\n",
    "  - Retention strategies should prioritize customers with higher churn probabilities based on these key drivers.\n"
   ]
  },
  {
   "cell_type": "code",
   "execution_count": null,
   "metadata": {},
   "outputs": [],
   "source": [
    "y_test=y_test.reset_index(drop=True)\n",
    "y_test.drop(columns=\"index\",axis=1,inplace=True)"
   ]
  },
  {
   "cell_type": "code",
   "execution_count": null,
   "metadata": {},
   "outputs": [],
   "source": [
    "X_test_df[\"churn_probability\"] = XGB_model.predict_proba(X_test_df)[:, 1]\n",
    "test_df=pd.concat([X_test_df,y_test],axis=1)\n",
    "test_df.head()"
   ]
  },
  {
   "cell_type": "code",
   "execution_count": null,
   "metadata": {},
   "outputs": [],
   "source": [
    "threshold=0.45\n",
    "high_probability_customers = test_df.iloc[:,:]\n",
    "high_probability_customers = high_probability_customers.sort_values(by=[\"StandardScaler__Balance\",\"churn_probability\"], ascending=[False,False])\n",
    "high_prob_high_val_customers=high_probability_customers[high_probability_customers[\"churn_probability\"]>threshold]\n",
    "high_prob_high_val_customers=high_prob_high_val_customers[high_prob_high_val_customers['StandardScaler__Balance']>=top25]\n"
   ]
  },
  {
   "cell_type": "markdown",
   "metadata": {},
   "source": [
    "# <h1>Identifying High-Probability and High-Value Customers</h1>\n",
    "\n",
    "## <h2>Purpose</h2>\n",
    "- Target customers with a high likelihood of churn and significant financial value for retention efforts.\n",
    "\n",
    "## <h2>Steps</h2>\n",
    "1. **Filter High Churn Probability**:\n",
    "   - Select customers with a churn probability greater than the threshold (`0.45`).\n",
    "2. **Sort by Balance and Churn Probability**:\n",
    "   - Prioritize customers with higher account balances and churn probabilities.\n",
    "3. **Focus on High-Value Customers**:\n",
    "   - Further filter to include only customers with balances in the top 25% (`>= top25`).\n",
    "\n",
    "## <h2>Takeaway</h2>\n",
    "- **Key Target Group**: High-value customers at significant risk of churn.\n",
    "\n"
   ]
  },
  {
   "cell_type": "code",
   "execution_count": null,
   "metadata": {},
   "outputs": [],
   "source": [
    "high_prob_high_val_customers[high_prob_high_val_customers['Exited']==1].head(30)\n",
    "y_high=high_prob_high_val_customers['Exited']\n",
    "X_high=high_prob_high_val_customers.drop(columns=[\"Exited\",\"churn_probability\"],axis=1)\n",
    "\n"
   ]
  },
  {
   "cell_type": "code",
   "execution_count": null,
   "metadata": {},
   "outputs": [],
   "source": [
    "X_high"
   ]
  },
  {
   "cell_type": "code",
   "execution_count": null,
   "metadata": {},
   "outputs": [],
   "source": [
    "X_high.head()"
   ]
  },
  {
   "cell_type": "code",
   "execution_count": null,
   "metadata": {},
   "outputs": [],
   "source": [
    "y_high_pred = XGB_model.predict(X_high)\n",
    "y_high_proba = XGB_model.predict_proba(X_high)[:, 1]\n",
    "\n",
    "XGB_model_accuracy = accuracy_score(y_high, y_high_pred)\n",
    "XGB_model_f1 = f1_score(y_high, y_high_pred)\n",
    "XGB_model_precision = precision_score(y_high, y_high_pred)\n",
    "XGB_model_recall = recall_score(y_high, y_high_pred)\n",
    "XGB_model_rocauc_score = roc_auc_score(y_high, y_high_proba)\n",
    "\n",
    "print(f\"Model: XGBoost\")\n",
    "\n",
    "print(\"Model Performance on Testing Set\")\n",
    "print(f\"Test Accuracy : {XGB_model_accuracy}\")\n",
    "print(f\"Test F1 Score : {XGB_model_f1}\")\n",
    "print(f\"Test Precision : {XGB_model_precision}\")\n",
    "print(f\"Test Recall : {XGB_model_recall}\")\n",
    "print(f\"Test ROC AUC Score : {XGB_model_rocauc_score}\\n\")\n",
    "print(\"**************************************************\")\n",
    "\n",
    "fpr, tpr, _ = roc_curve(y_test, y_test_proba)\n",
    "plt.plot(fpr, tpr, label=f\"{name} (AUC = {XGB_model_rocauc_score:.2f})\")\n",
    "\n",
    "plt.plot([0, 1], [0, 1], 'k--', label=\"Random Guess\")\n",
    "plt.title(\"ROC Curve\")\n",
    "plt.xlabel(\"False Positive Rate\")\n",
    "plt.ylabel(\"True Positive Rate\")\n",
    "plt.legend()\n",
    "plt.show()"
   ]
  },
  {
   "cell_type": "markdown",
   "metadata": {},
   "source": [
    "# <h1>Model Performance on Testing Set</h1>\n",
    "\n",
    "## <h2>Summary of Results</h2>\n",
    "- **Accuracy**: 61.0% - Reflects the overall correctness of predictions but does not account for class imbalance.\n",
    "- **F1 Score**: 0.606 - Indicates a balanced trade-off between precision and recall, leaning towards recall.\n",
    "- **Precision**: 48.2% - Indicates a higher false positive rate, where non-churners are incorrectly predicted as churners.\n",
    "- **Recall**: 81.4% - Strong ability to identify actual churners, prioritizing the minority class in the imbalanced dataset.\n",
    "- **ROC AUC**: 0.767 - Reflects good discriminatory ability between churners and non-churners.\n",
    "\n",
    "## <h2>Key Insights</h2>\n",
    "1. **High Recall**:\n",
    "   - Indicates the model is effective at identifying churners, which is crucial for minimizing missed churners in the imbalanced dataset.\n",
    "2. **Lower Precision**:\n",
    "   - The model sacrifices precision to improve recall, leading to more false positives. This trade-off is acceptable when the business prioritizes capturing all churners.\n",
    "3. **Balanced F1 Score**:\n",
    "   - Reflects the balance between precision and recall, favoring recall due to the skewed dataset.\n",
    "\n",
    "## <h2>ROC Curve</h2>\n",
    "- The ROC curve highlights the model's ability to distinguish between churners and non-churners.\n",
    "- AUC of 0.769 shows the model performs well but has room for improvement.\n",
    "\n",
    "\n",
    "\n"
   ]
  },
  {
   "cell_type": "code",
   "execution_count": null,
   "metadata": {},
   "outputs": [],
   "source": [
    "\n",
    "threshold = 0.47\n",
    "y_test_pred_threshold = (y_test_proba >= threshold).astype(int)\n",
    "\n",
    "XGB_model_accuracy = accuracy_score(y_test, y_test_pred_threshold)\n",
    "XGB_model_f1 = f1_score(y_test, y_test_pred_threshold)\n",
    "XGB_model_precision = precision_score(y_test, y_test_pred_threshold)\n",
    "XGB_model_recall = recall_score(y_test, y_test_pred_threshold)\n",
    "XGB_model_rocauc_score = roc_auc_score(y_test, y_test_proba)\n",
    "print(f\"Model: XGBoost (Threshold = {threshold})\")\n",
    "print(\"**************************************************\")\n",
    "print(\"Model Performance with Threshold = 0.45\")\n",
    "print(f\"Test Accuracy : {XGB_model_accuracy}\")\n",
    "print(f\"Test F1 Score : {XGB_model_f1}\")\n",
    "print(f\"Test Precision : {XGB_model_precision}\")\n",
    "print(f\"Test Recall : {XGB_model_recall}\")\n",
    "print(f\"Test ROC AUC Score : {XGB_model_rocauc_score}\\n\")\n",
    "print(\"**************************************************\")\n",
    "fpr, tpr, _ = roc_curve(y_test, y_test_proba)\n",
    "plt.plot(fpr, tpr, label=f\"ROC Curve (AUC = {XGB_model_rocauc_score:.2f})\")\n",
    "plt.plot([0, 1], [0, 1], 'k--', label=\"Random Guess\")\n",
    "plt.title(\"ROC Curve with Threshold = 0.45\")\n",
    "plt.xlabel(\"False Positive Rate\")\n",
    "plt.ylabel(\"True Positive Rate\")\n",
    "plt.legend()\n",
    "plt.show()\n",
    "l='Churn Probability')\n",
    "plt.axvline(x=threshold, color='r', linestyle='--', label=f\"Threshold = {threshold}\")\n",
    "plt.title(\"Churn Probability Distribution\")\n",
    "plt.xlabel(\"Churn Probability\")\n",
    "plt.ylabel(\"Frequency\")\n",
    "plt.legend()\n",
    "plt.show()\n"
   ]
  },
  {
   "cell_type": "markdown",
   "metadata": {},
   "source": [
    "# <h1>Model Performance with Adjusted Threshold (0.47)</h1>\n",
    "\n",
    "## <h2>Performance Summary</h2>\n",
    "- **Accuracy**: 76.2% - Reflects overall prediction correctness but is less meaningful for imbalanced datasets.\n",
    "- **F1 Score**: 0.567 - A balanced metric that highlights the trade-off between precision and recall.\n",
    "- **Precision**: 43.9% - Indicates a moderate false positive rate due to the model’s focus on recall.\n",
    "- **Recall**: 79.9% - Demonstrates the model’s strong ability to identify churners, prioritizing the minority class.\n",
    "- **ROC AUC**: 0.857 - Strong capability to separate churners and non-churners, even with class imbalance.\n",
    "\n",
    "## <h2>Why This is a Good Model for Imbalanced Data</h2>\n",
    "1. **High Recall**:\n",
    "   - The model identifies nearly 80% of churners despite churners making up only 20% of the dataset.\n",
    "   - Ensures most high-risk customers are flagged, which is critical in churn prediction.\n",
    "\n",
    "2. **Effective Handling of Class Imbalance**:\n",
    "   - Adjustments like lowering the threshold (to 0.47) and using `scale_pos_weight` improve focus on the minority class (churners).\n",
    "   - The model compensates for the imbalance, ensuring better recall without excessively sacrificing other metrics.\n",
    "\n",
    "3. **Balanced Metrics**:\n",
    "   - The F1 score reflects the balance between precision and recall, making it suitable for evaluating imbalanced datasets.\n",
    "   - The ROC AUC of 0.857 indicates strong discriminatory power despite skewed class proportions.\n",
    "\n",
    "4. **Focused Predictions**:\n",
    "   - By emphasizing recall, the model minimizes missed churners, which is critical for reducing customer attrition.\n",
    "   - Precision, though lower, ensures enough accuracy in targeting high-risk customers for retention strategies.\n",
    "\n",
    "\n"
   ]
  },
  {
   "cell_type": "code",
   "execution_count": null,
   "metadata": {},
   "outputs": [],
   "source": [
    "import pickle\n",
    "pickle.dump(preprocessor,open('preprocessor.pkl','wb'))\n",
    "pickle.dump(XGB_model,open(\"XGB_model.pkl\",'wb'))"
   ]
  },
  {
   "cell_type": "code",
   "execution_count": null,
   "metadata": {},
   "outputs": [],
   "source": [
    "\n"
   ]
  },
  {
   "cell_type": "code",
   "execution_count": null,
   "metadata": {},
   "outputs": [],
   "source": []
  },
  {
   "cell_type": "code",
   "execution_count": null,
   "metadata": {},
   "outputs": [],
   "source": []
  },
  {
   "cell_type": "code",
   "execution_count": null,
   "metadata": {},
   "outputs": [],
   "source": []
  },
  {
   "cell_type": "code",
   "execution_count": null,
   "metadata": {},
   "outputs": [],
   "source": []
  },
  {
   "cell_type": "code",
   "execution_count": null,
   "metadata": {},
   "outputs": [],
   "source": []
  },
  {
   "cell_type": "code",
   "execution_count": null,
   "metadata": {},
   "outputs": [],
   "source": []
  },
  {
   "cell_type": "code",
   "execution_count": null,
   "metadata": {},
   "outputs": [],
   "source": []
  },
  {
   "cell_type": "code",
   "execution_count": null,
   "metadata": {},
   "outputs": [],
   "source": []
  },
  {
   "cell_type": "code",
   "execution_count": null,
   "metadata": {},
   "outputs": [],
   "source": []
  },
  {
   "cell_type": "code",
   "execution_count": null,
   "metadata": {},
   "outputs": [],
   "source": []
  }
 ],
 "metadata": {
  "kernelspec": {
   "display_name": "base",
   "language": "python",
   "name": "python3"
  },
  "language_info": {
   "codemirror_mode": {
    "name": "ipython",
    "version": 3
   },
   "file_extension": ".py",
   "mimetype": "text/x-python",
   "name": "python",
   "nbconvert_exporter": "python",
   "pygments_lexer": "ipython3",
   "version": "3.12.4"
  }
 },
 "nbformat": 4,
 "nbformat_minor": 2
}
